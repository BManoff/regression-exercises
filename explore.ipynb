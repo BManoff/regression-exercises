{
 "cells": [
  {
   "cell_type": "code",
   "execution_count": 6,
   "metadata": {},
   "outputs": [],
   "source": [
    "from pydataset import data # importing librabries\n",
    "import seaborn as sns\n",
    "import pandas as pd\n",
    "import os\n",
    "import env\n",
    "from sklearn.preprocessing import LabelEncoder\n",
    "from sklearn.impute import SimpleImputer\n",
    "from sklearn.preprocessing import MinMaxScaler, StandardScaler, RobustScaler, QuantileTransformer\n",
    "from sklearn.model_selection import train_test_split\n",
    "from wrangle import wrangle_zillow\n",
    "\n",
    "# turn off warnings\n",
    "import warnings\n",
    "warnings.filterwarnings(\"ignore\")\n",
    "\n",
    "from sklearn.preprocessing import MinMaxScaler, StandardScaler, RobustScaler, QuantileTransformer\n",
    "from sklearn.model_selection import train_test_split"
   ]
  },
  {
   "cell_type": "code",
   "execution_count": 3,
   "metadata": {},
   "outputs": [],
   "source": [
    "def get_connection(db, user=env.user, host=env.host, password=env.password):\n",
    "    return f'mysql+pymysql://{user}:{password}@{host}/{db}'"
   ]
  },
  {
   "cell_type": "code",
   "execution_count": 8,
   "metadata": {},
   "outputs": [],
   "source": [
    "df = wrangle_zillow()"
   ]
  },
  {
   "cell_type": "code",
   "execution_count": 9,
   "metadata": {},
   "outputs": [
    {
     "data": {
      "text/html": [
       "<div>\n",
       "<style scoped>\n",
       "    .dataframe tbody tr th:only-of-type {\n",
       "        vertical-align: middle;\n",
       "    }\n",
       "\n",
       "    .dataframe tbody tr th {\n",
       "        vertical-align: top;\n",
       "    }\n",
       "\n",
       "    .dataframe thead th {\n",
       "        text-align: right;\n",
       "    }\n",
       "</style>\n",
       "<table border=\"1\" class=\"dataframe\">\n",
       "  <thead>\n",
       "    <tr style=\"text-align: right;\">\n",
       "      <th></th>\n",
       "      <th>bedroomcnt</th>\n",
       "      <th>bathroomcnt</th>\n",
       "      <th>calculatedfinishedsquarefeet</th>\n",
       "      <th>taxvaluedollarcnt</th>\n",
       "      <th>yearbuilt</th>\n",
       "      <th>taxamount</th>\n",
       "      <th>fips</th>\n",
       "    </tr>\n",
       "  </thead>\n",
       "  <tbody>\n",
       "    <tr>\n",
       "      <th>0</th>\n",
       "      <td>0</td>\n",
       "      <td>0.0</td>\n",
       "      <td>73026</td>\n",
       "      <td>1434941</td>\n",
       "      <td>1959</td>\n",
       "      <td>20800.37</td>\n",
       "      <td>6037</td>\n",
       "    </tr>\n",
       "    <tr>\n",
       "      <th>1</th>\n",
       "      <td>0</td>\n",
       "      <td>0.0</td>\n",
       "      <td>5068</td>\n",
       "      <td>1174475</td>\n",
       "      <td>1948</td>\n",
       "      <td>14557.57</td>\n",
       "      <td>6037</td>\n",
       "    </tr>\n",
       "    <tr>\n",
       "      <th>2</th>\n",
       "      <td>0</td>\n",
       "      <td>0.0</td>\n",
       "      <td>1776</td>\n",
       "      <td>440101</td>\n",
       "      <td>1947</td>\n",
       "      <td>5725.17</td>\n",
       "      <td>6037</td>\n",
       "    </tr>\n",
       "    <tr>\n",
       "      <th>3</th>\n",
       "      <td>0</td>\n",
       "      <td>0.0</td>\n",
       "      <td>2400</td>\n",
       "      <td>287634</td>\n",
       "      <td>1943</td>\n",
       "      <td>3661.28</td>\n",
       "      <td>6037</td>\n",
       "    </tr>\n",
       "    <tr>\n",
       "      <th>4</th>\n",
       "      <td>0</td>\n",
       "      <td>0.0</td>\n",
       "      <td>3611</td>\n",
       "      <td>698984</td>\n",
       "      <td>1946</td>\n",
       "      <td>7857.84</td>\n",
       "      <td>6037</td>\n",
       "    </tr>\n",
       "  </tbody>\n",
       "</table>\n",
       "</div>"
      ],
      "text/plain": [
       "   bedroomcnt  bathroomcnt  calculatedfinishedsquarefeet  taxvaluedollarcnt  \\\n",
       "0           0          0.0                         73026            1434941   \n",
       "1           0          0.0                          5068            1174475   \n",
       "2           0          0.0                          1776             440101   \n",
       "3           0          0.0                          2400             287634   \n",
       "4           0          0.0                          3611             698984   \n",
       "\n",
       "   yearbuilt  taxamount  fips  \n",
       "0       1959   20800.37  6037  \n",
       "1       1948   14557.57  6037  \n",
       "2       1947    5725.17  6037  \n",
       "3       1943    3661.28  6037  \n",
       "4       1946    7857.84  6037  "
      ]
     },
     "execution_count": 9,
     "metadata": {},
     "output_type": "execute_result"
    }
   ],
   "source": [
    "df.head()"
   ]
  },
  {
   "cell_type": "code",
   "execution_count": 10,
   "metadata": {},
   "outputs": [],
   "source": [
    "def train_validate_test_split(df, seed=123):\n",
    "    train_and_validate, test = train_test_split(\n",
    "        df, test_size=0.2, random_state=seed, stratify=df.taxvaluedollarcnt\n",
    "    )\n",
    "    train, validate = train_test_split(\n",
    "        train_and_validate,\n",
    "        test_size=0.3,\n",
    "        random_state=seed,\n",
    "        stratify=train_and_validate.taxvaluedollarcnt,\n",
    "    )\n",
    "    return train, validate, test"
   ]
  },
  {
   "cell_type": "code",
   "execution_count": 13,
   "metadata": {},
   "outputs": [
    {
     "ename": "ValueError",
     "evalue": "The least populated class in y has only 1 member, which is too few. The minimum number of groups for any class cannot be less than 2.",
     "output_type": "error",
     "traceback": [
      "\u001b[0;31m---------------------------------------------------------------------------\u001b[0m",
      "\u001b[0;31mValueError\u001b[0m                                Traceback (most recent call last)",
      "\u001b[1;32m/Users/brian/codeup-data-science/regression-exercises/explore.ipynb Cell 6'\u001b[0m in \u001b[0;36m<cell line: 1>\u001b[0;34m()\u001b[0m\n\u001b[0;32m----> <a href='vscode-notebook-cell:/Users/brian/codeup-data-science/regression-exercises/explore.ipynb#ch0000005?line=0'>1</a>\u001b[0m train_validate_test_split(df, seed\u001b[39m=\u001b[39;49m\u001b[39m123\u001b[39;49m)\n",
      "\u001b[1;32m/Users/brian/codeup-data-science/regression-exercises/explore.ipynb Cell 5'\u001b[0m in \u001b[0;36mtrain_validate_test_split\u001b[0;34m(df, seed)\u001b[0m\n\u001b[1;32m      <a href='vscode-notebook-cell:/Users/brian/codeup-data-science/regression-exercises/explore.ipynb#ch0000004?line=0'>1</a>\u001b[0m \u001b[39mdef\u001b[39;00m \u001b[39mtrain_validate_test_split\u001b[39m(df, seed\u001b[39m=\u001b[39m\u001b[39m123\u001b[39m):\n\u001b[0;32m----> <a href='vscode-notebook-cell:/Users/brian/codeup-data-science/regression-exercises/explore.ipynb#ch0000004?line=1'>2</a>\u001b[0m     train_and_validate, test \u001b[39m=\u001b[39m train_test_split(\n\u001b[1;32m      <a href='vscode-notebook-cell:/Users/brian/codeup-data-science/regression-exercises/explore.ipynb#ch0000004?line=2'>3</a>\u001b[0m         df, test_size\u001b[39m=\u001b[39;49m\u001b[39m0.2\u001b[39;49m, random_state\u001b[39m=\u001b[39;49mseed, stratify\u001b[39m=\u001b[39;49mdf\u001b[39m.\u001b[39;49mtaxvaluedollarcnt\n\u001b[1;32m      <a href='vscode-notebook-cell:/Users/brian/codeup-data-science/regression-exercises/explore.ipynb#ch0000004?line=3'>4</a>\u001b[0m     )\n\u001b[1;32m      <a href='vscode-notebook-cell:/Users/brian/codeup-data-science/regression-exercises/explore.ipynb#ch0000004?line=4'>5</a>\u001b[0m     train, validate \u001b[39m=\u001b[39m train_test_split(\n\u001b[1;32m      <a href='vscode-notebook-cell:/Users/brian/codeup-data-science/regression-exercises/explore.ipynb#ch0000004?line=5'>6</a>\u001b[0m         train_and_validate,\n\u001b[1;32m      <a href='vscode-notebook-cell:/Users/brian/codeup-data-science/regression-exercises/explore.ipynb#ch0000004?line=6'>7</a>\u001b[0m         test_size\u001b[39m=\u001b[39m\u001b[39m0.3\u001b[39m,\n\u001b[1;32m      <a href='vscode-notebook-cell:/Users/brian/codeup-data-science/regression-exercises/explore.ipynb#ch0000004?line=7'>8</a>\u001b[0m         random_state\u001b[39m=\u001b[39mseed,\n\u001b[1;32m      <a href='vscode-notebook-cell:/Users/brian/codeup-data-science/regression-exercises/explore.ipynb#ch0000004?line=8'>9</a>\u001b[0m         stratify\u001b[39m=\u001b[39mtrain_and_validate\u001b[39m.\u001b[39mtaxvaluedollarcnt,\n\u001b[1;32m     <a href='vscode-notebook-cell:/Users/brian/codeup-data-science/regression-exercises/explore.ipynb#ch0000004?line=9'>10</a>\u001b[0m     )\n\u001b[1;32m     <a href='vscode-notebook-cell:/Users/brian/codeup-data-science/regression-exercises/explore.ipynb#ch0000004?line=10'>11</a>\u001b[0m     \u001b[39mreturn\u001b[39;00m train, validate, test\n",
      "File \u001b[0;32m/opt/homebrew/anaconda3/lib/python3.9/site-packages/sklearn/model_selection/_split.py:2441\u001b[0m, in \u001b[0;36mtrain_test_split\u001b[0;34m(test_size, train_size, random_state, shuffle, stratify, *arrays)\u001b[0m\n\u001b[1;32m   <a href='file:///opt/homebrew/anaconda3/lib/python3.9/site-packages/sklearn/model_selection/_split.py?line=2436'>2437</a>\u001b[0m         CVClass \u001b[39m=\u001b[39m ShuffleSplit\n\u001b[1;32m   <a href='file:///opt/homebrew/anaconda3/lib/python3.9/site-packages/sklearn/model_selection/_split.py?line=2438'>2439</a>\u001b[0m     cv \u001b[39m=\u001b[39m CVClass(test_size\u001b[39m=\u001b[39mn_test, train_size\u001b[39m=\u001b[39mn_train, random_state\u001b[39m=\u001b[39mrandom_state)\n\u001b[0;32m-> <a href='file:///opt/homebrew/anaconda3/lib/python3.9/site-packages/sklearn/model_selection/_split.py?line=2440'>2441</a>\u001b[0m     train, test \u001b[39m=\u001b[39m \u001b[39mnext\u001b[39;49m(cv\u001b[39m.\u001b[39;49msplit(X\u001b[39m=\u001b[39;49marrays[\u001b[39m0\u001b[39;49m], y\u001b[39m=\u001b[39;49mstratify))\n\u001b[1;32m   <a href='file:///opt/homebrew/anaconda3/lib/python3.9/site-packages/sklearn/model_selection/_split.py?line=2442'>2443</a>\u001b[0m \u001b[39mreturn\u001b[39;00m \u001b[39mlist\u001b[39m(\n\u001b[1;32m   <a href='file:///opt/homebrew/anaconda3/lib/python3.9/site-packages/sklearn/model_selection/_split.py?line=2443'>2444</a>\u001b[0m     chain\u001b[39m.\u001b[39mfrom_iterable(\n\u001b[1;32m   <a href='file:///opt/homebrew/anaconda3/lib/python3.9/site-packages/sklearn/model_selection/_split.py?line=2444'>2445</a>\u001b[0m         (_safe_indexing(a, train), _safe_indexing(a, test)) \u001b[39mfor\u001b[39;00m a \u001b[39min\u001b[39;00m arrays\n\u001b[1;32m   <a href='file:///opt/homebrew/anaconda3/lib/python3.9/site-packages/sklearn/model_selection/_split.py?line=2445'>2446</a>\u001b[0m     )\n\u001b[1;32m   <a href='file:///opt/homebrew/anaconda3/lib/python3.9/site-packages/sklearn/model_selection/_split.py?line=2446'>2447</a>\u001b[0m )\n",
      "File \u001b[0;32m/opt/homebrew/anaconda3/lib/python3.9/site-packages/sklearn/model_selection/_split.py:1600\u001b[0m, in \u001b[0;36mBaseShuffleSplit.split\u001b[0;34m(self, X, y, groups)\u001b[0m\n\u001b[1;32m   <a href='file:///opt/homebrew/anaconda3/lib/python3.9/site-packages/sklearn/model_selection/_split.py?line=1569'>1570</a>\u001b[0m \u001b[39m\"\"\"Generate indices to split data into training and test set.\u001b[39;00m\n\u001b[1;32m   <a href='file:///opt/homebrew/anaconda3/lib/python3.9/site-packages/sklearn/model_selection/_split.py?line=1570'>1571</a>\u001b[0m \n\u001b[1;32m   <a href='file:///opt/homebrew/anaconda3/lib/python3.9/site-packages/sklearn/model_selection/_split.py?line=1571'>1572</a>\u001b[0m \u001b[39mParameters\u001b[39;00m\n\u001b[0;32m   (...)\u001b[0m\n\u001b[1;32m   <a href='file:///opt/homebrew/anaconda3/lib/python3.9/site-packages/sklearn/model_selection/_split.py?line=1596'>1597</a>\u001b[0m \u001b[39mto an integer.\u001b[39;00m\n\u001b[1;32m   <a href='file:///opt/homebrew/anaconda3/lib/python3.9/site-packages/sklearn/model_selection/_split.py?line=1597'>1598</a>\u001b[0m \u001b[39m\"\"\"\u001b[39;00m\n\u001b[1;32m   <a href='file:///opt/homebrew/anaconda3/lib/python3.9/site-packages/sklearn/model_selection/_split.py?line=1598'>1599</a>\u001b[0m X, y, groups \u001b[39m=\u001b[39m indexable(X, y, groups)\n\u001b[0;32m-> <a href='file:///opt/homebrew/anaconda3/lib/python3.9/site-packages/sklearn/model_selection/_split.py?line=1599'>1600</a>\u001b[0m \u001b[39mfor\u001b[39;00m train, test \u001b[39min\u001b[39;00m \u001b[39mself\u001b[39m\u001b[39m.\u001b[39m_iter_indices(X, y, groups):\n\u001b[1;32m   <a href='file:///opt/homebrew/anaconda3/lib/python3.9/site-packages/sklearn/model_selection/_split.py?line=1600'>1601</a>\u001b[0m     \u001b[39myield\u001b[39;00m train, test\n",
      "File \u001b[0;32m/opt/homebrew/anaconda3/lib/python3.9/site-packages/sklearn/model_selection/_split.py:1940\u001b[0m, in \u001b[0;36mStratifiedShuffleSplit._iter_indices\u001b[0;34m(self, X, y, groups)\u001b[0m\n\u001b[1;32m   <a href='file:///opt/homebrew/anaconda3/lib/python3.9/site-packages/sklearn/model_selection/_split.py?line=1937'>1938</a>\u001b[0m class_counts \u001b[39m=\u001b[39m np\u001b[39m.\u001b[39mbincount(y_indices)\n\u001b[1;32m   <a href='file:///opt/homebrew/anaconda3/lib/python3.9/site-packages/sklearn/model_selection/_split.py?line=1938'>1939</a>\u001b[0m \u001b[39mif\u001b[39;00m np\u001b[39m.\u001b[39mmin(class_counts) \u001b[39m<\u001b[39m \u001b[39m2\u001b[39m:\n\u001b[0;32m-> <a href='file:///opt/homebrew/anaconda3/lib/python3.9/site-packages/sklearn/model_selection/_split.py?line=1939'>1940</a>\u001b[0m     \u001b[39mraise\u001b[39;00m \u001b[39mValueError\u001b[39;00m(\n\u001b[1;32m   <a href='file:///opt/homebrew/anaconda3/lib/python3.9/site-packages/sklearn/model_selection/_split.py?line=1940'>1941</a>\u001b[0m         \u001b[39m\"\u001b[39m\u001b[39mThe least populated class in y has only 1\u001b[39m\u001b[39m\"\u001b[39m\n\u001b[1;32m   <a href='file:///opt/homebrew/anaconda3/lib/python3.9/site-packages/sklearn/model_selection/_split.py?line=1941'>1942</a>\u001b[0m         \u001b[39m\"\u001b[39m\u001b[39m member, which is too few. The minimum\u001b[39m\u001b[39m\"\u001b[39m\n\u001b[1;32m   <a href='file:///opt/homebrew/anaconda3/lib/python3.9/site-packages/sklearn/model_selection/_split.py?line=1942'>1943</a>\u001b[0m         \u001b[39m\"\u001b[39m\u001b[39m number of groups for any class cannot\u001b[39m\u001b[39m\"\u001b[39m\n\u001b[1;32m   <a href='file:///opt/homebrew/anaconda3/lib/python3.9/site-packages/sklearn/model_selection/_split.py?line=1943'>1944</a>\u001b[0m         \u001b[39m\"\u001b[39m\u001b[39m be less than 2.\u001b[39m\u001b[39m\"\u001b[39m\n\u001b[1;32m   <a href='file:///opt/homebrew/anaconda3/lib/python3.9/site-packages/sklearn/model_selection/_split.py?line=1944'>1945</a>\u001b[0m     )\n\u001b[1;32m   <a href='file:///opt/homebrew/anaconda3/lib/python3.9/site-packages/sklearn/model_selection/_split.py?line=1946'>1947</a>\u001b[0m \u001b[39mif\u001b[39;00m n_train \u001b[39m<\u001b[39m n_classes:\n\u001b[1;32m   <a href='file:///opt/homebrew/anaconda3/lib/python3.9/site-packages/sklearn/model_selection/_split.py?line=1947'>1948</a>\u001b[0m     \u001b[39mraise\u001b[39;00m \u001b[39mValueError\u001b[39;00m(\n\u001b[1;32m   <a href='file:///opt/homebrew/anaconda3/lib/python3.9/site-packages/sklearn/model_selection/_split.py?line=1948'>1949</a>\u001b[0m         \u001b[39m\"\u001b[39m\u001b[39mThe train_size = \u001b[39m\u001b[39m%d\u001b[39;00m\u001b[39m should be greater or \u001b[39m\u001b[39m\"\u001b[39m\n\u001b[1;32m   <a href='file:///opt/homebrew/anaconda3/lib/python3.9/site-packages/sklearn/model_selection/_split.py?line=1949'>1950</a>\u001b[0m         \u001b[39m\"\u001b[39m\u001b[39mequal to the number of classes = \u001b[39m\u001b[39m%d\u001b[39;00m\u001b[39m\"\u001b[39m \u001b[39m%\u001b[39m (n_train, n_classes)\n\u001b[1;32m   <a href='file:///opt/homebrew/anaconda3/lib/python3.9/site-packages/sklearn/model_selection/_split.py?line=1950'>1951</a>\u001b[0m     )\n",
      "\u001b[0;31mValueError\u001b[0m: The least populated class in y has only 1 member, which is too few. The minimum number of groups for any class cannot be less than 2."
     ]
    }
   ],
   "source": [
    "train_validate_test_split(df, seed=123)"
   ]
  }
 ],
 "metadata": {
  "interpreter": {
   "hash": "38cca0c38332a56087b24af0bc80247f4fced29cb4f7f437d91dc159adec9c4e"
  },
  "kernelspec": {
   "display_name": "Python 3.9.12 ('base')",
   "language": "python",
   "name": "python3"
  },
  "language_info": {
   "codemirror_mode": {
    "name": "ipython",
    "version": 3
   },
   "file_extension": ".py",
   "mimetype": "text/x-python",
   "name": "python",
   "nbconvert_exporter": "python",
   "pygments_lexer": "ipython3",
   "version": "3.9.12"
  },
  "orig_nbformat": 4
 },
 "nbformat": 4,
 "nbformat_minor": 2
}
