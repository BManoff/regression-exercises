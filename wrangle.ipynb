{
 "cells": [
  {
   "cell_type": "code",
   "execution_count": 37,
   "metadata": {},
   "outputs": [],
   "source": [
    "from pydataset import data # importing librabries\n",
    "import matplotlib.pyplot as plt\n",
    "import seaborn as sns\n",
    "import pandas as pd\n",
    "import os\n",
    "import env\n",
    "\n",
    "# turn off warnings\n",
    "import warnings\n",
    "warnings.filterwarnings(\"ignore\")"
   ]
  },
  {
   "cell_type": "code",
   "execution_count": 5,
   "metadata": {},
   "outputs": [],
   "source": [
    "# connect to the mysql server\n",
    "def get_connection(db, user=env.user, host=env.host, password=env.password):\n",
    "    return f'mysql+pymysql://{user}:{password}@{host}/{db}'"
   ]
  },
  {
   "cell_type": "code",
   "execution_count": 23,
   "metadata": {},
   "outputs": [],
   "source": [
    "def wrangle_zillow():\n",
    "    # Get local cached file if it's there\n",
    "    filename = \"zillow.csv\" \n",
    "\n",
    "    if os.path.isfile(filename):\n",
    "        return pd.read_csv(filename)\n",
    "    else:\n",
    "        # read the SQL query into a dataframe\n",
    "        df = pd.read_sql(\n",
    "        ''' \n",
    "        SELECT\n",
    "\n",
    "        bedroomcnt, bathroomcnt, calculatedfinishedsquarefeet, taxvaluedollarcnt, yearbuilt, taxamount, fips\n",
    "\n",
    "        FROM \n",
    "\n",
    "        properties_2017 \n",
    "\n",
    "        JOIN \n",
    "        \n",
    "        propertylandusetype using (propertyusetypeid)\n",
    "\n",
    "        WHERE\n",
    "         \n",
    "        propertylandusedesc = \"Single Family Residential\"\n",
    "\n",
    "        '''\n",
    "        \n",
    "        , get_connection('zillow')\n",
    "        )\n",
    "\n",
    "        # Write that dataframe to disk for later. Called \"caching\" the data for later.\n",
    "        df.to_csv(filename)\n",
    "\n",
    "        # Return the dataframe to the calling code\n",
    "        return df  "
   ]
  },
  {
   "cell_type": "code",
   "execution_count": 25,
   "metadata": {},
   "outputs": [],
   "source": [
    "df = wrangle_zillow()"
   ]
  },
  {
   "cell_type": "code",
   "execution_count": 26,
   "metadata": {},
   "outputs": [
    {
     "data": {
      "text/html": [
       "<div>\n",
       "<style scoped>\n",
       "    .dataframe tbody tr th:only-of-type {\n",
       "        vertical-align: middle;\n",
       "    }\n",
       "\n",
       "    .dataframe tbody tr th {\n",
       "        vertical-align: top;\n",
       "    }\n",
       "\n",
       "    .dataframe thead th {\n",
       "        text-align: right;\n",
       "    }\n",
       "</style>\n",
       "<table border=\"1\" class=\"dataframe\">\n",
       "  <thead>\n",
       "    <tr style=\"text-align: right;\">\n",
       "      <th></th>\n",
       "      <th>Unnamed: 0</th>\n",
       "      <th>bedroomcnt</th>\n",
       "      <th>bathroomcnt</th>\n",
       "      <th>calculatedfinishedsquarefeet</th>\n",
       "      <th>taxvaluedollarcnt</th>\n",
       "      <th>yearbuilt</th>\n",
       "      <th>taxamount</th>\n",
       "      <th>fips</th>\n",
       "    </tr>\n",
       "  </thead>\n",
       "  <tbody>\n",
       "    <tr>\n",
       "      <th>0</th>\n",
       "      <td>0</td>\n",
       "      <td>0.0</td>\n",
       "      <td>0.0</td>\n",
       "      <td>NaN</td>\n",
       "      <td>9.0</td>\n",
       "      <td>NaN</td>\n",
       "      <td>NaN</td>\n",
       "      <td>6037.0</td>\n",
       "    </tr>\n",
       "    <tr>\n",
       "      <th>1</th>\n",
       "      <td>1</td>\n",
       "      <td>0.0</td>\n",
       "      <td>0.0</td>\n",
       "      <td>NaN</td>\n",
       "      <td>27516.0</td>\n",
       "      <td>NaN</td>\n",
       "      <td>NaN</td>\n",
       "      <td>6037.0</td>\n",
       "    </tr>\n",
       "    <tr>\n",
       "      <th>2</th>\n",
       "      <td>2</td>\n",
       "      <td>0.0</td>\n",
       "      <td>0.0</td>\n",
       "      <td>73026.0</td>\n",
       "      <td>1434941.0</td>\n",
       "      <td>1959.0</td>\n",
       "      <td>20800.37</td>\n",
       "      <td>6037.0</td>\n",
       "    </tr>\n",
       "    <tr>\n",
       "      <th>3</th>\n",
       "      <td>3</td>\n",
       "      <td>0.0</td>\n",
       "      <td>0.0</td>\n",
       "      <td>5068.0</td>\n",
       "      <td>1174475.0</td>\n",
       "      <td>1948.0</td>\n",
       "      <td>14557.57</td>\n",
       "      <td>6037.0</td>\n",
       "    </tr>\n",
       "    <tr>\n",
       "      <th>4</th>\n",
       "      <td>4</td>\n",
       "      <td>0.0</td>\n",
       "      <td>0.0</td>\n",
       "      <td>1776.0</td>\n",
       "      <td>440101.0</td>\n",
       "      <td>1947.0</td>\n",
       "      <td>5725.17</td>\n",
       "      <td>6037.0</td>\n",
       "    </tr>\n",
       "  </tbody>\n",
       "</table>\n",
       "</div>"
      ],
      "text/plain": [
       "   Unnamed: 0  bedroomcnt  bathroomcnt  calculatedfinishedsquarefeet  \\\n",
       "0           0         0.0          0.0                           NaN   \n",
       "1           1         0.0          0.0                           NaN   \n",
       "2           2         0.0          0.0                       73026.0   \n",
       "3           3         0.0          0.0                        5068.0   \n",
       "4           4         0.0          0.0                        1776.0   \n",
       "\n",
       "   taxvaluedollarcnt  yearbuilt  taxamount    fips  \n",
       "0                9.0        NaN        NaN  6037.0  \n",
       "1            27516.0        NaN        NaN  6037.0  \n",
       "2          1434941.0     1959.0   20800.37  6037.0  \n",
       "3          1174475.0     1948.0   14557.57  6037.0  \n",
       "4           440101.0     1947.0    5725.17  6037.0  "
      ]
     },
     "execution_count": 26,
     "metadata": {},
     "output_type": "execute_result"
    }
   ],
   "source": [
    "df.head()"
   ]
  },
  {
   "cell_type": "code",
   "execution_count": 31,
   "metadata": {},
   "outputs": [
    {
     "data": {
      "text/plain": [
       "(2985217, 8)"
      ]
     },
     "execution_count": 31,
     "metadata": {},
     "output_type": "execute_result"
    }
   ],
   "source": [
    "df.shape #looking at initial data size"
   ]
  },
  {
   "cell_type": "code",
   "execution_count": 28,
   "metadata": {},
   "outputs": [
    {
     "name": "stdout",
     "output_type": "stream",
     "text": [
      "<class 'pandas.core.frame.DataFrame'>\n",
      "RangeIndex: 2985217 entries, 0 to 2985216\n",
      "Data columns (total 8 columns):\n",
      " #   Column                        Dtype  \n",
      "---  ------                        -----  \n",
      " 0   Unnamed: 0                    int64  \n",
      " 1   bedroomcnt                    float64\n",
      " 2   bathroomcnt                   float64\n",
      " 3   calculatedfinishedsquarefeet  float64\n",
      " 4   taxvaluedollarcnt             float64\n",
      " 5   yearbuilt                     float64\n",
      " 6   taxamount                     float64\n",
      " 7   fips                          float64\n",
      "dtypes: float64(7), int64(1)\n",
      "memory usage: 182.2 MB\n"
     ]
    }
   ],
   "source": [
    "df.info() #looking for dtypes"
   ]
  },
  {
   "cell_type": "code",
   "execution_count": 30,
   "metadata": {},
   "outputs": [
    {
     "data": {
      "text/plain": [
       "Unnamed: 0                          0\n",
       "bedroomcnt                       2945\n",
       "bathroomcnt                      2957\n",
       "calculatedfinishedsquarefeet    45097\n",
       "taxvaluedollarcnt               34266\n",
       "yearbuilt                       47833\n",
       "taxamount                       22752\n",
       "fips                             2932\n",
       "dtype: int64"
      ]
     },
     "execution_count": 30,
     "metadata": {},
     "output_type": "execute_result"
    }
   ],
   "source": [
    "df.isnull().sum() # looking at how many nulls per column"
   ]
  },
  {
   "cell_type": "code",
   "execution_count": 32,
   "metadata": {},
   "outputs": [],
   "source": [
    "df = df.dropna() #dropping all the na values"
   ]
  },
  {
   "cell_type": "code",
   "execution_count": 33,
   "metadata": {},
   "outputs": [
    {
     "data": {
      "text/plain": [
       "(2901918, 8)"
      ]
     },
     "execution_count": 33,
     "metadata": {},
     "output_type": "execute_result"
    }
   ],
   "source": [
    "df.shape #The nulls are an insignificant amount in the dataset, so I'm going to keep them dropped."
   ]
  },
  {
   "cell_type": "code",
   "execution_count": 35,
   "metadata": {},
   "outputs": [],
   "source": [
    "df.drop(columns=['Unnamed: 0'], inplace=True) #dropping unnamed"
   ]
  },
  {
   "cell_type": "code",
   "execution_count": 36,
   "metadata": {},
   "outputs": [
    {
     "data": {
      "text/html": [
       "<div>\n",
       "<style scoped>\n",
       "    .dataframe tbody tr th:only-of-type {\n",
       "        vertical-align: middle;\n",
       "    }\n",
       "\n",
       "    .dataframe tbody tr th {\n",
       "        vertical-align: top;\n",
       "    }\n",
       "\n",
       "    .dataframe thead th {\n",
       "        text-align: right;\n",
       "    }\n",
       "</style>\n",
       "<table border=\"1\" class=\"dataframe\">\n",
       "  <thead>\n",
       "    <tr style=\"text-align: right;\">\n",
       "      <th></th>\n",
       "      <th>bedroomcnt</th>\n",
       "      <th>bathroomcnt</th>\n",
       "      <th>calculatedfinishedsquarefeet</th>\n",
       "      <th>taxvaluedollarcnt</th>\n",
       "      <th>yearbuilt</th>\n",
       "      <th>taxamount</th>\n",
       "      <th>fips</th>\n",
       "    </tr>\n",
       "  </thead>\n",
       "  <tbody>\n",
       "    <tr>\n",
       "      <th>2</th>\n",
       "      <td>0.0</td>\n",
       "      <td>0.0</td>\n",
       "      <td>73026.0</td>\n",
       "      <td>1434941.0</td>\n",
       "      <td>1959.0</td>\n",
       "      <td>20800.37</td>\n",
       "      <td>6037.0</td>\n",
       "    </tr>\n",
       "    <tr>\n",
       "      <th>3</th>\n",
       "      <td>0.0</td>\n",
       "      <td>0.0</td>\n",
       "      <td>5068.0</td>\n",
       "      <td>1174475.0</td>\n",
       "      <td>1948.0</td>\n",
       "      <td>14557.57</td>\n",
       "      <td>6037.0</td>\n",
       "    </tr>\n",
       "    <tr>\n",
       "      <th>4</th>\n",
       "      <td>0.0</td>\n",
       "      <td>0.0</td>\n",
       "      <td>1776.0</td>\n",
       "      <td>440101.0</td>\n",
       "      <td>1947.0</td>\n",
       "      <td>5725.17</td>\n",
       "      <td>6037.0</td>\n",
       "    </tr>\n",
       "    <tr>\n",
       "      <th>5</th>\n",
       "      <td>0.0</td>\n",
       "      <td>0.0</td>\n",
       "      <td>2400.0</td>\n",
       "      <td>287634.0</td>\n",
       "      <td>1943.0</td>\n",
       "      <td>3661.28</td>\n",
       "      <td>6037.0</td>\n",
       "    </tr>\n",
       "    <tr>\n",
       "      <th>7</th>\n",
       "      <td>0.0</td>\n",
       "      <td>0.0</td>\n",
       "      <td>3611.0</td>\n",
       "      <td>698984.0</td>\n",
       "      <td>1946.0</td>\n",
       "      <td>7857.84</td>\n",
       "      <td>6037.0</td>\n",
       "    </tr>\n",
       "  </tbody>\n",
       "</table>\n",
       "</div>"
      ],
      "text/plain": [
       "   bedroomcnt  bathroomcnt  calculatedfinishedsquarefeet  taxvaluedollarcnt  \\\n",
       "2         0.0          0.0                       73026.0          1434941.0   \n",
       "3         0.0          0.0                        5068.0          1174475.0   \n",
       "4         0.0          0.0                        1776.0           440101.0   \n",
       "5         0.0          0.0                        2400.0           287634.0   \n",
       "7         0.0          0.0                        3611.0           698984.0   \n",
       "\n",
       "   yearbuilt  taxamount    fips  \n",
       "2     1959.0   20800.37  6037.0  \n",
       "3     1948.0   14557.57  6037.0  \n",
       "4     1947.0    5725.17  6037.0  \n",
       "5     1943.0    3661.28  6037.0  \n",
       "7     1946.0    7857.84  6037.0  "
      ]
     },
     "execution_count": 36,
     "metadata": {},
     "output_type": "execute_result"
    }
   ],
   "source": [
    "df.head()"
   ]
  },
  {
   "cell_type": "code",
   "execution_count": 61,
   "metadata": {},
   "outputs": [
    {
     "data": {
      "text/plain": [
       "['bedroomcnt',\n",
       " 'bathroomcnt',\n",
       " 'calculatedfinishedsquarefeet',\n",
       " 'taxvaluedollarcnt',\n",
       " 'yearbuilt',\n",
       " 'taxamount',\n",
       " 'fips']"
      ]
     },
     "execution_count": 61,
     "metadata": {},
     "output_type": "execute_result"
    }
   ],
   "source": [
    "df.columns.tolist()"
   ]
  },
  {
   "cell_type": "code",
   "execution_count": 62,
   "metadata": {},
   "outputs": [
    {
     "name": "stdout",
     "output_type": "stream",
     "text": [
      "bedroomcnt\n",
      "3.0     1170717\n",
      "4.0      730024\n",
      "2.0      604965\n",
      "5.0      182200\n",
      "1.0       86501\n",
      "6.0       48534\n",
      "0.0       45547\n",
      "8.0       13283\n",
      "7.0       12656\n",
      "9.0        4218\n",
      "10.0       1670\n",
      "12.0        941\n",
      "11.0        415\n",
      "13.0         83\n",
      "14.0         64\n",
      "16.0         47\n",
      "15.0         23\n",
      "17.0         11\n",
      "18.0          9\n",
      "20.0          6\n",
      "25.0          1\n",
      "23.0          1\n",
      "19.0          1\n",
      "21.0          1\n",
      "Name: bedroomcnt, dtype: int64\n",
      "-----------------\n",
      "bathroomcnt\n",
      "2.00     1217537\n",
      "3.00      631906\n",
      "1.00      497185\n",
      "2.50      208514\n",
      "4.00      133100\n",
      "1.50       45667\n",
      "0.00       40405\n",
      "5.00       38362\n",
      "3.50       31769\n",
      "4.50       19832\n",
      "6.00       16319\n",
      "5.50        6259\n",
      "7.00        6186\n",
      "8.00        4498\n",
      "6.50        1349\n",
      "9.00        1326\n",
      "10.00        489\n",
      "7.50         383\n",
      "12.00        264\n",
      "11.00        198\n",
      "8.50         111\n",
      "13.00         53\n",
      "9.50          50\n",
      "14.00         39\n",
      "16.00         23\n",
      "15.00         20\n",
      "0.50          16\n",
      "10.50         14\n",
      "18.00         12\n",
      "17.00          8\n",
      "20.00          7\n",
      "1.75           4\n",
      "19.00          3\n",
      "12.50          3\n",
      "11.50          3\n",
      "19.50          1\n",
      "14.50          1\n",
      "32.00          1\n",
      "31.00          1\n",
      "Name: bathroomcnt, dtype: int64\n",
      "-----------------\n",
      "calculatedfinishedsquarefeet\n",
      "1200.0     6582\n",
      "1440.0     5708\n",
      "1120.0     5531\n",
      "1080.0     5326\n",
      "1400.0     4703\n",
      "           ... \n",
      "9538.0        1\n",
      "9777.0        1\n",
      "9610.0        1\n",
      "9112.0        1\n",
      "24920.0       1\n",
      "Name: calculatedfinishedsquarefeet, Length: 12550, dtype: int64\n",
      "-----------------\n",
      "taxvaluedollarcnt\n",
      "450000.0    1441\n",
      "400000.0    1333\n",
      "500000.0    1275\n",
      "480000.0    1128\n",
      "420000.0    1114\n",
      "            ... \n",
      "625050.0       1\n",
      "197696.0       1\n",
      "33316.0        1\n",
      "341635.0       1\n",
      "594022.0       1\n",
      "Name: taxvaluedollarcnt, Length: 645664, dtype: int64\n",
      "-----------------\n",
      "yearbuilt\n",
      "1955.0    88441\n",
      "1950.0    75990\n",
      "1954.0    73161\n",
      "1953.0    66958\n",
      "1956.0    65602\n",
      "          ...  \n",
      "1813.0        1\n",
      "1860.0        1\n",
      "1829.0        1\n",
      "1863.0        1\n",
      "1861.0        1\n",
      "Name: yearbuilt, Length: 183, dtype: int64\n",
      "-----------------\n",
      "taxamount\n",
      "345.72      173\n",
      "1844.16     124\n",
      "1045.88     111\n",
      "1481.24     101\n",
      "2264.43      89\n",
      "           ... \n",
      "8077.87       1\n",
      "548.49        1\n",
      "7418.63       1\n",
      "7992.67       1\n",
      "15546.14      1\n",
      "Name: taxamount, Length: 1027179, dtype: int64\n",
      "-----------------\n",
      "fips\n",
      "6037.0    1970806\n",
      "6059.0     717971\n",
      "6111.0     213141\n",
      "Name: fips, dtype: int64\n",
      "-----------------\n"
     ]
    }
   ],
   "source": [
    "for column in df.columns:\n",
    "    print(column)\n",
    "    print(df[column].value_counts())\n",
    "    print(\"-----------------\")"
   ]
  },
  {
   "cell_type": "code",
   "execution_count": 63,
   "metadata": {},
   "outputs": [
    {
     "name": "stdout",
     "output_type": "stream",
     "text": [
      "bedroomcnt\n"
     ]
    },
    {
     "data": {
      "image/png": "[encoded data removed]",
      "text/plain": [
       "<Figure size 432x288 with 1 Axes>"
      ]
     },
     "metadata": {
      "needs_background": "light"
     },
     "output_type": "display_data"
    },
    {
     "name": "stdout",
     "output_type": "stream",
     "text": [
      "bathroomcnt\n"
     ]
    },
    {
     "data": {
      "image/png": "[encoded data removed]",
      "text/plain": [
       "<Figure size 432x288 with 1 Axes>"
      ]
     },
     "metadata": {
      "needs_background": "light"
     },
     "output_type": "display_data"
    },
    {
     "name": "stdout",
     "output_type": "stream",
     "text": [
      "calculatedfinishedsquarefeet\n"
     ]
    },
    {
     "data": {
      "image/png": "[encoded data removed]",
      "text/plain": [
       "<Figure size 432x288 with 1 Axes>"
      ]
     },
     "metadata": {
      "needs_background": "light"
     },
     "output_type": "display_data"
    },
    {
     "name": "stdout",
     "output_type": "stream",
     "text": [
      "taxvaluedollarcnt\n"
     ]
    },
    {
     "data": {
      "image/png": "[encoded data removed]",
      "text/plain": [
       "<Figure size 432x288 with 1 Axes>"
      ]
     },
     "metadata": {
      "needs_background": "light"
     },
     "output_type": "display_data"
    },
    {
     "name": "stdout",
     "output_type": "stream",
     "text": [
      "yearbuilt\n"
     ]
    },
    {
     "data": {
      "image/png": "[encoded data removed]",
      "text/plain": [
       "<Figure size 432x288 with 1 Axes>"
      ]
     },
     "metadata": {
      "needs_background": "light"
     },
     "output_type": "display_data"
    },
    {
     "name": "stdout",
     "output_type": "stream",
     "text": [
      "taxamount\n"
     ]
    },
    {
     "data": {
      "image/png": "[encoded data removed]",
      "text/plain": [
       "<Figure size 432x288 with 1 Axes>"
      ]
     },
     "metadata": {
      "needs_background": "light"
     },
     "output_type": "display_data"
    },
    {
     "name": "stdout",
     "output_type": "stream",
     "text": [
      "fips\n"
     ]
    },
    {
     "data": {
      "image/png": "[encoded data removed]",
      "text/plain": [
       "<Figure size 432x288 with 1 Axes>"
      ]
     },
     "metadata": {
      "needs_background": "light"
     },
     "output_type": "display_data"
    }
   ],
   "source": [
    "for col in df.columns:\n",
    "    print(col)\n",
    "    plt.title(col)\n",
    "    df[col].hist()\n",
    "    plt.show()\n"
   ]
  },
  {
   "cell_type": "code",
   "execution_count": 64,
   "metadata": {},
   "outputs": [
    {
     "data": {
      "text/plain": [
       "1176033    952576.0\n",
       "148779     820242.0\n",
       "462377     617114.0\n",
       "2338929    531118.0\n",
       "1938915    522511.0\n",
       "342941     520825.0\n",
       "432636     512019.0\n",
       "1163194    474155.0\n",
       "1252741    472363.0\n",
       "1133400    454102.0\n",
       "Name: calculatedfinishedsquarefeet, dtype: float64"
      ]
     },
     "execution_count": 64,
     "metadata": {},
     "output_type": "execute_result"
    }
   ],
   "source": [
    "# A football field is 57,600 square feet\n",
    "df.calculatedfinishedsquarefeet.sort_values(ascending=False).head(10)"
   ]
  },
  {
   "cell_type": "code",
   "execution_count": 65,
   "metadata": {},
   "outputs": [
    {
     "data": {
      "text/plain": [
       "13588689.03271028"
      ]
     },
     "execution_count": 65,
     "metadata": {},
     "output_type": "execute_result"
    }
   ],
   "source": [
    "df[df.calculatedfinishedsquarefeet >= 25_000].taxvaluedollarcnt.mean()"
   ]
  },
  {
   "cell_type": "code",
   "execution_count": 66,
   "metadata": {},
   "outputs": [
    {
     "data": {
      "text/plain": [
       "3.0     1170717\n",
       "4.0      730024\n",
       "2.0      604965\n",
       "5.0      182200\n",
       "1.0       86501\n",
       "6.0       48534\n",
       "0.0       45547\n",
       "8.0       13283\n",
       "7.0       12656\n",
       "9.0        4218\n",
       "10.0       1670\n",
       "12.0        941\n",
       "11.0        415\n",
       "13.0         83\n",
       "14.0         64\n",
       "16.0         47\n",
       "15.0         23\n",
       "17.0         11\n",
       "18.0          9\n",
       "20.0          6\n",
       "25.0          1\n",
       "23.0          1\n",
       "19.0          1\n",
       "21.0          1\n",
       "Name: bedroomcnt, dtype: int64"
      ]
     },
     "execution_count": 66,
     "metadata": {},
     "output_type": "execute_result"
    }
   ],
   "source": [
    "# Most Zillow customers share more in common with you and me than a movie star with 25 bedrooms.\n",
    "df.bedroomcnt.value_counts()"
   ]
  },
  {
   "cell_type": "code",
   "execution_count": 67,
   "metadata": {},
   "outputs": [
    {
     "data": {
      "text/plain": [
       "2296330    32.0\n",
       "2952363    31.0\n",
       "1627497    20.0\n",
       "1543767    20.0\n",
       "536729     20.0\n",
       "36788      20.0\n",
       "971400     20.0\n",
       "2241598    20.0\n",
       "2841839    20.0\n",
       "44260      19.5\n",
       "1333093    19.0\n",
       "392140     19.0\n",
       "2958006    19.0\n",
       "2152197    18.0\n",
       "790038     18.0\n",
       "1107213    18.0\n",
       "2763003    18.0\n",
       "163740     18.0\n",
       "2435259    18.0\n",
       "351075     18.0\n",
       "1764673    18.0\n",
       "2733189    18.0\n",
       "1401767    18.0\n",
       "2837442    18.0\n",
       "2509560    18.0\n",
       "1809826    17.0\n",
       "2315862    17.0\n",
       "372795     17.0\n",
       "1167753    17.0\n",
       "792482     17.0\n",
       "Name: bathroomcnt, dtype: float64"
      ]
     },
     "execution_count": 67,
     "metadata": {},
     "output_type": "execute_result"
    }
   ],
   "source": [
    "df.bathroomcnt.sort_values(ascending=False).head(30)"
   ]
  },
  {
   "cell_type": "code",
   "execution_count": 68,
   "metadata": {},
   "outputs": [
    {
     "data": {
      "text/plain": [
       "0.9948161870872988"
      ]
     },
     "execution_count": 68,
     "metadata": {},
     "output_type": "execute_result"
    }
   ],
   "source": [
    "# What percentage of properties have 6 or less bathrooms?\n",
    "df[df.bathroomcnt <= 6].shape[0] / df.shape[0]"
   ]
  },
  {
   "cell_type": "code",
   "execution_count": 69,
   "metadata": {},
   "outputs": [
    {
     "data": {
      "text/plain": [
       "0.988480032861025"
      ]
     },
     "execution_count": 69,
     "metadata": {},
     "output_type": "execute_result"
    }
   ],
   "source": [
    "# What percentage of properties have 6 or less bedrooms?\n",
    "df[df.bedroomcnt <= 6].shape[0] / df.shape[0]"
   ]
  },
  {
   "cell_type": "code",
   "execution_count": 70,
   "metadata": {},
   "outputs": [
    {
     "data": {
      "text/plain": [
       "0.9723038349119445"
      ]
     },
     "execution_count": 70,
     "metadata": {},
     "output_type": "execute_result"
    }
   ],
   "source": [
    "# What percentage of properties are less than $2m in tax value?\n",
    "df[df.taxvaluedollarcnt < 1_500_000].shape[0] / df.shape[0]"
   ]
  },
  {
   "cell_type": "markdown",
   "metadata": {},
   "source": [
    "I may take the above outlying values out after the data split"
   ]
  }
 ],
 "metadata": {
  "interpreter": {
   "hash": "38cca0c38332a56087b24af0bc80247f4fced29cb4f7f437d91dc159adec9c4e"
  },
  "kernelspec": {
   "display_name": "Python 3.9.12 ('base')",
   "language": "python",
   "name": "python3"
  },
  "language_info": {
   "codemirror_mode": {
    "name": "ipython",
    "version": 3
   },
   "file_extension": ".py",
   "mimetype": "text/x-python",
   "name": "python",
   "nbconvert_exporter": "python",
   "pygments_lexer": "ipython3",
   "version": "3.9.12"
  },
  "orig_nbformat": 4
 },
 "nbformat": 4,
 "nbformat_minor": 2
}
